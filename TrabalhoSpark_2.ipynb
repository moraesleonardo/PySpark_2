{
  "nbformat": 4,
  "nbformat_minor": 0,
  "metadata": {
    "colab": {
      "provenance": [],
      "authorship_tag": "ABX9TyOShKVAUvC1Z1CuPvj4llKP",
      "include_colab_link": true
    },
    "kernelspec": {
      "name": "python3",
      "display_name": "Python 3"
    },
    "language_info": {
      "name": "python"
    }
  },
  "cells": [
    {
      "cell_type": "markdown",
      "metadata": {
        "id": "view-in-github",
        "colab_type": "text"
      },
      "source": [
        "<a href=\"https://colab.research.google.com/github/moraesleonardo/PySpark_2/blob/main/TrabalhoSpark_2.ipynb\" target=\"_parent\"><img src=\"https://colab.research.google.com/assets/colab-badge.svg\" alt=\"Open In Colab\"/></a>"
      ]
    },
    {
      "cell_type": "code",
      "execution_count": 398,
      "metadata": {
        "colab": {
          "base_uri": "https://localhost:8080/"
        },
        "id": "A2XasxChztdc",
        "outputId": "7bd16ba1-1d49-49bd-a99c-c48660152476"
      },
      "outputs": [
        {
          "output_type": "stream",
          "name": "stdout",
          "text": [
            "Drive already mounted at /content/drive; to attempt to forcibly remount, call drive.mount(\"/content/drive\", force_remount=True).\n"
          ]
        }
      ],
      "source": [
        "# Acesso ao Google Drive\n",
        "from google.colab import drive\n",
        "drive.mount('/content/drive')"
      ]
    },
    {
      "cell_type": "code",
      "source": [
        "# Instalar pyspark\n",
        "!pip install pyspark"
      ],
      "metadata": {
        "colab": {
          "base_uri": "https://localhost:8080/"
        },
        "id": "MZE4tzGrazNi",
        "outputId": "63386597-8f5c-4618-d9f6-9d6193a4477c"
      },
      "execution_count": 399,
      "outputs": [
        {
          "output_type": "stream",
          "name": "stdout",
          "text": [
            "Requirement already satisfied: pyspark in /usr/local/lib/python3.10/dist-packages (3.5.0)\n",
            "Requirement already satisfied: py4j==0.10.9.7 in /usr/local/lib/python3.10/dist-packages (from pyspark) (0.10.9.7)\n"
          ]
        }
      ]
    },
    {
      "cell_type": "code",
      "source": [
        "# Acesso à API DataFrame e Dataset em Spark\n",
        "from pyspark.sql import SparkSession"
      ],
      "metadata": {
        "id": "AW0y9rj1bZEE"
      },
      "execution_count": 400,
      "outputs": []
    },
    {
      "cell_type": "code",
      "source": [
        "# Iniciando a sparkSession\n",
        "spark = SparkSession.builder.appName(\"Edmonton_Housing\").master('local[*]').getOrCreate()"
      ],
      "metadata": {
        "id": "8AaaeCIfcuDz"
      },
      "execution_count": 401,
      "outputs": []
    },
    {
      "cell_type": "code",
      "source": [
        "# Ler o arquivo edmonton_housing a partir do google drive\n",
        "df_housing = spark.read.option(\"delimiter\", \",\").csv(path='/content/drive/My Drive/edmonton_housing_3.csv', schema= 'Price float, Bedrooms float, Bathrooms float, Square_Footage float, Year_Built float', header=True)"
      ],
      "metadata": {
        "id": "TfUZlQ3nbnuf"
      },
      "execution_count": 402,
      "outputs": []
    },
    {
      "cell_type": "code",
      "source": [
        "df_housing.show(20)"
      ],
      "metadata": {
        "colab": {
          "base_uri": "https://localhost:8080/"
        },
        "id": "4oQ0THDxcHsq",
        "outputId": "fcd59981-f8e0-431c-92fe-28d3fa54f222"
      },
      "execution_count": 403,
      "outputs": [
        {
          "output_type": "stream",
          "name": "stdout",
          "text": [
            "+-------+--------+---------+--------------+----------+\n",
            "|  Price|Bedrooms|Bathrooms|Square_Footage|Year_Built|\n",
            "+-------+--------+---------+--------------+----------+\n",
            "| 399.99|     1.0|      1.0|         787.0|    1948.0|\n",
            "|  357.0|     4.0|      2.0|         929.0|    1954.0|\n",
            "|  499.6|     5.0|      2.0|         1.161|    1959.0|\n",
            "|  398.8|     4.0|      3.0|         1.217|    1976.0|\n",
            "|  279.9|     3.0|      2.0|          1.16|    1979.0|\n",
            "|  292.0|     3.0|      2.0|         914.0|    1955.0|\n",
            "| 314.85|     3.0|      2.0|         1.119|    1967.0|\n",
            "|  189.9|     3.0|      1.0|         694.0|    1940.0|\n",
            "|238.888|     4.0|      0.0|         926.0|    1959.0|\n",
            "|  219.9|     3.0|      1.0|         1.109|    1942.0|\n",
            "|  289.0|     4.0|      2.0|         1.401|    1945.0|\n",
            "|  419.0|     3.0|      2.0|         815.0|    1959.0|\n",
            "|  397.5|     4.0|      2.0|         992.0|    1953.0|\n",
            "|  334.9|     3.0|      2.0|         1.038|    1980.0|\n",
            "|  530.0|     4.0|      3.0|         1.766|    1999.0|\n",
            "|  235.0|     3.0|      1.0|         958.0|    1955.0|\n",
            "|  950.0|     4.0|      4.0|         2.089|    1958.0|\n",
            "|  325.0|     3.0|      2.0|         1.023|    1951.0|\n",
            "|  330.0|     4.0|      2.0|         1.117|    1972.0|\n",
            "|  274.9|     2.0|      1.0|         1.105|    1956.0|\n",
            "+-------+--------+---------+--------------+----------+\n",
            "only showing top 20 rows\n",
            "\n"
          ]
        }
      ]
    },
    {
      "cell_type": "markdown",
      "source": [
        "Preparação dos Dados da Tabela"
      ],
      "metadata": {
        "id": "I-t5goLHia4l"
      }
    },
    {
      "cell_type": "code",
      "source": [
        "# Selecionando colunas desejadas\n",
        "selected_columns = ['Price', 'Bedrooms', 'Bathrooms', 'Square_Footage', 'Year_Built']\n",
        "df_selected_housing = df_housing.select(selected_columns)\n",
        "df_selected_housing.show(20)\n",
        "\n",
        "#número de linhas\n",
        "num_linhas = df_selected_housing.count()\n",
        "print(f\"O dataset possui {num_linhas} linhas.\")"
      ],
      "metadata": {
        "colab": {
          "base_uri": "https://localhost:8080/"
        },
        "id": "xkUxmJAcdY3k",
        "outputId": "2cf8ea41-b2f3-4955-9bf5-4b62f339afca"
      },
      "execution_count": 404,
      "outputs": [
        {
          "output_type": "stream",
          "name": "stdout",
          "text": [
            "+-------+--------+---------+--------------+----------+\n",
            "|  Price|Bedrooms|Bathrooms|Square_Footage|Year_Built|\n",
            "+-------+--------+---------+--------------+----------+\n",
            "| 399.99|     1.0|      1.0|         787.0|    1948.0|\n",
            "|  357.0|     4.0|      2.0|         929.0|    1954.0|\n",
            "|  499.6|     5.0|      2.0|         1.161|    1959.0|\n",
            "|  398.8|     4.0|      3.0|         1.217|    1976.0|\n",
            "|  279.9|     3.0|      2.0|          1.16|    1979.0|\n",
            "|  292.0|     3.0|      2.0|         914.0|    1955.0|\n",
            "| 314.85|     3.0|      2.0|         1.119|    1967.0|\n",
            "|  189.9|     3.0|      1.0|         694.0|    1940.0|\n",
            "|238.888|     4.0|      0.0|         926.0|    1959.0|\n",
            "|  219.9|     3.0|      1.0|         1.109|    1942.0|\n",
            "|  289.0|     4.0|      2.0|         1.401|    1945.0|\n",
            "|  419.0|     3.0|      2.0|         815.0|    1959.0|\n",
            "|  397.5|     4.0|      2.0|         992.0|    1953.0|\n",
            "|  334.9|     3.0|      2.0|         1.038|    1980.0|\n",
            "|  530.0|     4.0|      3.0|         1.766|    1999.0|\n",
            "|  235.0|     3.0|      1.0|         958.0|    1955.0|\n",
            "|  950.0|     4.0|      4.0|         2.089|    1958.0|\n",
            "|  325.0|     3.0|      2.0|         1.023|    1951.0|\n",
            "|  330.0|     4.0|      2.0|         1.117|    1972.0|\n",
            "|  274.9|     2.0|      1.0|         1.105|    1956.0|\n",
            "+-------+--------+---------+--------------+----------+\n",
            "only showing top 20 rows\n",
            "\n",
            "O dataset possui 1697 linhas.\n"
          ]
        }
      ]
    },
    {
      "cell_type": "code",
      "source": [
        "# Visualizar os tipos de dados por coluna\n",
        "df_selected_housing"
      ],
      "metadata": {
        "colab": {
          "base_uri": "https://localhost:8080/"
        },
        "id": "pAnKVGKWkWlE",
        "outputId": "92db743a-66b7-4ea1-f07b-9140e0cf87e8"
      },
      "execution_count": 405,
      "outputs": [
        {
          "output_type": "execute_result",
          "data": {
            "text/plain": [
              "DataFrame[Price: float, Bedrooms: float, Bathrooms: float, Square_Footage: float, Year_Built: float]"
            ]
          },
          "metadata": {},
          "execution_count": 405
        }
      ]
    },
    {
      "cell_type": "code",
      "source": [
        "# retirando linhas com valores nulos\n",
        "df_selected_no_nulls = df_selected_housing.na.drop()\n",
        "\n",
        "#número de linhas\n",
        "num_linhas_no_null = df_selected_no_nulls.count()\n",
        "print(f\"O dataset possui {num_linhas_no_null} linhas.\")\n",
        "\n",
        "# Informação sobre quantas linhas com valores nulos foram retiradas\n",
        "diferenca = num_linhas - num_linhas_no_null\n",
        "print(f\"Retirado o total de {diferenca} linha(s) com valores nulos.\")"
      ],
      "metadata": {
        "colab": {
          "base_uri": "https://localhost:8080/"
        },
        "id": "gteNd2o-fx_s",
        "outputId": "01ee834f-2840-4b9d-a9fe-13a0959c8469"
      },
      "execution_count": 406,
      "outputs": [
        {
          "output_type": "stream",
          "name": "stdout",
          "text": [
            "O dataset possui 1615 linhas.\n",
            "Retirado o total de 82 linha(s) com valores nulos.\n"
          ]
        }
      ]
    },
    {
      "cell_type": "markdown",
      "source": [
        "Importação dos pacotes para trabalhar com vetores"
      ],
      "metadata": {
        "id": "yzCMs0LAiyPC"
      }
    },
    {
      "cell_type": "code",
      "source": [
        "from pyspark.ml.linalg import Vectors\n",
        "from pyspark.ml.feature import VectorAssembler"
      ],
      "metadata": {
        "id": "J2TdgRbuiw6G"
      },
      "execution_count": 407,
      "outputs": []
    },
    {
      "cell_type": "code",
      "source": [
        "# Gerar uma nova columa que representa o vetor de features\n",
        "\n",
        "assembler = VectorAssembler(inputCols=[\"Bedrooms\", \"Bathrooms\", \"Square_Footage\", \"Year_Built\"],outputCol=\"features\")\n",
        "print(assembler)"
      ],
      "metadata": {
        "colab": {
          "base_uri": "https://localhost:8080/"
        },
        "id": "hKMtlVVSgull",
        "outputId": "b02fc950-4f78-488a-bdd7-9c2e9b5779eb"
      },
      "execution_count": 408,
      "outputs": [
        {
          "output_type": "stream",
          "name": "stdout",
          "text": [
            "VectorAssembler_1f6d120b43b4\n"
          ]
        }
      ]
    },
    {
      "cell_type": "code",
      "source": [
        "df_novo = assembler.transform(df_selected_no_nulls)\n",
        "df_novo.show(truncate=False)"
      ],
      "metadata": {
        "colab": {
          "base_uri": "https://localhost:8080/"
        },
        "id": "eQzv7aSojcH1",
        "outputId": "30eb949a-a33a-4de5-f3f7-bf03fa0d9c29"
      },
      "execution_count": 409,
      "outputs": [
        {
          "output_type": "stream",
          "name": "stdout",
          "text": [
            "+-------+--------+---------+--------------+----------+-----------------------------------+\n",
            "|Price  |Bedrooms|Bathrooms|Square_Footage|Year_Built|features                           |\n",
            "+-------+--------+---------+--------------+----------+-----------------------------------+\n",
            "|399.99 |1.0     |1.0      |787.0         |1948.0    |[1.0,1.0,787.0,1948.0]             |\n",
            "|357.0  |4.0     |2.0      |929.0         |1954.0    |[4.0,2.0,929.0,1954.0]             |\n",
            "|499.6  |5.0     |2.0      |1.161         |1959.0    |[5.0,2.0,1.1610000133514404,1959.0]|\n",
            "|398.8  |4.0     |3.0      |1.217         |1976.0    |[4.0,3.0,1.2170000076293945,1976.0]|\n",
            "|279.9  |3.0     |2.0      |1.16          |1979.0    |[3.0,2.0,1.159999966621399,1979.0] |\n",
            "|292.0  |3.0     |2.0      |914.0         |1955.0    |[3.0,2.0,914.0,1955.0]             |\n",
            "|314.85 |3.0     |2.0      |1.119         |1967.0    |[3.0,2.0,1.11899995803833,1967.0]  |\n",
            "|189.9  |3.0     |1.0      |694.0         |1940.0    |[3.0,1.0,694.0,1940.0]             |\n",
            "|238.888|4.0     |0.0      |926.0         |1959.0    |[4.0,0.0,926.0,1959.0]             |\n",
            "|219.9  |3.0     |1.0      |1.109         |1942.0    |[3.0,1.0,1.1089999675750732,1942.0]|\n",
            "|289.0  |4.0     |2.0      |1.401         |1945.0    |[4.0,2.0,1.4010000228881836,1945.0]|\n",
            "|419.0  |3.0     |2.0      |815.0         |1959.0    |[3.0,2.0,815.0,1959.0]             |\n",
            "|397.5  |4.0     |2.0      |992.0         |1953.0    |[4.0,2.0,992.0,1953.0]             |\n",
            "|334.9  |3.0     |2.0      |1.038         |1980.0    |[3.0,2.0,1.0379999876022339,1980.0]|\n",
            "|530.0  |4.0     |3.0      |1.766         |1999.0    |[4.0,3.0,1.7660000324249268,1999.0]|\n",
            "|235.0  |3.0     |1.0      |958.0         |1955.0    |[3.0,1.0,958.0,1955.0]             |\n",
            "|950.0  |4.0     |4.0      |2.089         |1958.0    |[4.0,4.0,2.0889999866485596,1958.0]|\n",
            "|325.0  |3.0     |2.0      |1.023         |1951.0    |[3.0,2.0,1.0230000019073486,1951.0]|\n",
            "|330.0  |4.0     |2.0      |1.117         |1972.0    |[4.0,2.0,1.1169999837875366,1972.0]|\n",
            "|274.9  |2.0     |1.0      |1.105         |1956.0    |[2.0,1.0,1.1050000190734863,1956.0]|\n",
            "+-------+--------+---------+--------------+----------+-----------------------------------+\n",
            "only showing top 20 rows\n",
            "\n"
          ]
        }
      ]
    },
    {
      "cell_type": "code",
      "source": [
        "df_novo = df_novo.withColumnRenamed(\"Price\", \"label\")\n",
        "df_novo.show()"
      ],
      "metadata": {
        "colab": {
          "base_uri": "https://localhost:8080/"
        },
        "id": "TaROr-NPjrq8",
        "outputId": "ec8c93c4-c19a-4b1e-89c0-51f82c9740b0"
      },
      "execution_count": 410,
      "outputs": [
        {
          "output_type": "stream",
          "name": "stdout",
          "text": [
            "+-------+--------+---------+--------------+----------+--------------------+\n",
            "|  label|Bedrooms|Bathrooms|Square_Footage|Year_Built|            features|\n",
            "+-------+--------+---------+--------------+----------+--------------------+\n",
            "| 399.99|     1.0|      1.0|         787.0|    1948.0|[1.0,1.0,787.0,19...|\n",
            "|  357.0|     4.0|      2.0|         929.0|    1954.0|[4.0,2.0,929.0,19...|\n",
            "|  499.6|     5.0|      2.0|         1.161|    1959.0|[5.0,2.0,1.161000...|\n",
            "|  398.8|     4.0|      3.0|         1.217|    1976.0|[4.0,3.0,1.217000...|\n",
            "|  279.9|     3.0|      2.0|          1.16|    1979.0|[3.0,2.0,1.159999...|\n",
            "|  292.0|     3.0|      2.0|         914.0|    1955.0|[3.0,2.0,914.0,19...|\n",
            "| 314.85|     3.0|      2.0|         1.119|    1967.0|[3.0,2.0,1.118999...|\n",
            "|  189.9|     3.0|      1.0|         694.0|    1940.0|[3.0,1.0,694.0,19...|\n",
            "|238.888|     4.0|      0.0|         926.0|    1959.0|[4.0,0.0,926.0,19...|\n",
            "|  219.9|     3.0|      1.0|         1.109|    1942.0|[3.0,1.0,1.108999...|\n",
            "|  289.0|     4.0|      2.0|         1.401|    1945.0|[4.0,2.0,1.401000...|\n",
            "|  419.0|     3.0|      2.0|         815.0|    1959.0|[3.0,2.0,815.0,19...|\n",
            "|  397.5|     4.0|      2.0|         992.0|    1953.0|[4.0,2.0,992.0,19...|\n",
            "|  334.9|     3.0|      2.0|         1.038|    1980.0|[3.0,2.0,1.037999...|\n",
            "|  530.0|     4.0|      3.0|         1.766|    1999.0|[4.0,3.0,1.766000...|\n",
            "|  235.0|     3.0|      1.0|         958.0|    1955.0|[3.0,1.0,958.0,19...|\n",
            "|  950.0|     4.0|      4.0|         2.089|    1958.0|[4.0,4.0,2.088999...|\n",
            "|  325.0|     3.0|      2.0|         1.023|    1951.0|[3.0,2.0,1.023000...|\n",
            "|  330.0|     4.0|      2.0|         1.117|    1972.0|[4.0,2.0,1.116999...|\n",
            "|  274.9|     2.0|      1.0|         1.105|    1956.0|[2.0,1.0,1.105000...|\n",
            "+-------+--------+---------+--------------+----------+--------------------+\n",
            "only showing top 20 rows\n",
            "\n"
          ]
        }
      ]
    },
    {
      "cell_type": "code",
      "source": [
        "df_novo = df_novo.select(\"label\", \"features\")\n",
        "df_novo.show(truncate=False)"
      ],
      "metadata": {
        "colab": {
          "base_uri": "https://localhost:8080/"
        },
        "id": "SA-whIVC1vyK",
        "outputId": "2d2ffba5-d10e-452e-81ca-dc1d5dc6f2ae"
      },
      "execution_count": 411,
      "outputs": [
        {
          "output_type": "stream",
          "name": "stdout",
          "text": [
            "+-------+-----------------------------------+\n",
            "|label  |features                           |\n",
            "+-------+-----------------------------------+\n",
            "|399.99 |[1.0,1.0,787.0,1948.0]             |\n",
            "|357.0  |[4.0,2.0,929.0,1954.0]             |\n",
            "|499.6  |[5.0,2.0,1.1610000133514404,1959.0]|\n",
            "|398.8  |[4.0,3.0,1.2170000076293945,1976.0]|\n",
            "|279.9  |[3.0,2.0,1.159999966621399,1979.0] |\n",
            "|292.0  |[3.0,2.0,914.0,1955.0]             |\n",
            "|314.85 |[3.0,2.0,1.11899995803833,1967.0]  |\n",
            "|189.9  |[3.0,1.0,694.0,1940.0]             |\n",
            "|238.888|[4.0,0.0,926.0,1959.0]             |\n",
            "|219.9  |[3.0,1.0,1.1089999675750732,1942.0]|\n",
            "|289.0  |[4.0,2.0,1.4010000228881836,1945.0]|\n",
            "|419.0  |[3.0,2.0,815.0,1959.0]             |\n",
            "|397.5  |[4.0,2.0,992.0,1953.0]             |\n",
            "|334.9  |[3.0,2.0,1.0379999876022339,1980.0]|\n",
            "|530.0  |[4.0,3.0,1.7660000324249268,1999.0]|\n",
            "|235.0  |[3.0,1.0,958.0,1955.0]             |\n",
            "|950.0  |[4.0,4.0,2.0889999866485596,1958.0]|\n",
            "|325.0  |[3.0,2.0,1.0230000019073486,1951.0]|\n",
            "|330.0  |[4.0,2.0,1.1169999837875366,1972.0]|\n",
            "|274.9  |[2.0,1.0,1.1050000190734863,1956.0]|\n",
            "+-------+-----------------------------------+\n",
            "only showing top 20 rows\n",
            "\n"
          ]
        }
      ]
    },
    {
      "cell_type": "markdown",
      "source": [
        "Vamos verificar o número de linhas do dataframe"
      ],
      "metadata": {
        "id": "Wn_KzW6h131n"
      }
    },
    {
      "cell_type": "code",
      "source": [
        "df_novo.count()"
      ],
      "metadata": {
        "colab": {
          "base_uri": "https://localhost:8080/"
        },
        "id": "37KF0OKG1wo6",
        "outputId": "002afc82-ad62-4ace-f82b-46653644e748"
      },
      "execution_count": 412,
      "outputs": [
        {
          "output_type": "execute_result",
          "data": {
            "text/plain": [
              "1615"
            ]
          },
          "metadata": {},
          "execution_count": 412
        }
      ]
    },
    {
      "cell_type": "markdown",
      "source": [
        "Antes de treinar o modelo, vamos separar um conjunto de dados para servir de validação para o modelo."
      ],
      "metadata": {
        "id": "GFCc3l_r2EH7"
      }
    },
    {
      "cell_type": "code",
      "source": [
        "(trainingData, testData) = df_novo.randomSplit([0.7, 0.3])\n",
        "print(trainingData.count(), testData.count())"
      ],
      "metadata": {
        "colab": {
          "base_uri": "https://localhost:8080/"
        },
        "id": "ip3JWwsm19iI",
        "outputId": "f49497c8-7b05-4020-a647-46d99a390a91"
      },
      "execution_count": 413,
      "outputs": [
        {
          "output_type": "stream",
          "name": "stdout",
          "text": [
            "1101 514\n"
          ]
        }
      ]
    },
    {
      "cell_type": "code",
      "source": [
        "trainingData.show(5)\n",
        "testData.show(5)"
      ],
      "metadata": {
        "colab": {
          "base_uri": "https://localhost:8080/"
        },
        "id": "BBE20dLL2KE7",
        "outputId": "7488f4ed-8dc6-414c-b497-aff3ca16aec4"
      },
      "execution_count": 414,
      "outputs": [
        {
          "output_type": "stream",
          "name": "stdout",
          "text": [
            "+-----+--------------------+\n",
            "|label|            features|\n",
            "+-----+--------------------+\n",
            "| 54.0|[1.0,1.0,578.0,19...|\n",
            "| 55.0|[1.0,1.0,578.0,19...|\n",
            "| 55.0|[1.0,1.0,646.0,19...|\n",
            "| 56.0|[1.0,1.0,541.0,19...|\n",
            "| 59.0|[1.0,1.0,532.0,19...|\n",
            "+-----+--------------------+\n",
            "only showing top 5 rows\n",
            "\n",
            "+-----+--------------------+\n",
            "|label|            features|\n",
            "+-----+--------------------+\n",
            "| 60.1|[3.0,2.0,1.743999...|\n",
            "| 64.8|[1.0,1.0,732.0,19...|\n",
            "| 65.0|[1.0,1.0,390.0,19...|\n",
            "| 65.7|[3.0,2.0,1.332000...|\n",
            "| 67.5|[1.0,1.0,691.0,19...|\n",
            "+-----+--------------------+\n",
            "only showing top 5 rows\n",
            "\n"
          ]
        }
      ]
    },
    {
      "cell_type": "markdown",
      "source": [
        "Vamos trabalhar com regressão linear para prever o Price baseado nas features"
      ],
      "metadata": {
        "id": "93rDejoD2Xjm"
      }
    },
    {
      "cell_type": "code",
      "source": [
        "from pyspark.ml.regression import LinearRegression, LinearRegressionTrainingSummary\n",
        "from pyspark.ml.evaluation import RegressionEvaluator"
      ],
      "metadata": {
        "id": "bhfKF1YA2QOr"
      },
      "execution_count": 415,
      "outputs": []
    },
    {
      "cell_type": "markdown",
      "source": [
        "Instanciando o estimator."
      ],
      "metadata": {
        "id": "WQmzJ40O2lRt"
      }
    },
    {
      "cell_type": "code",
      "source": [
        "lr = LinearRegression()"
      ],
      "metadata": {
        "id": "_lmv5S-c2elI"
      },
      "execution_count": 416,
      "outputs": []
    },
    {
      "cell_type": "markdown",
      "source": [
        "Treinando um modelo: geração de um modelo (transformer) ajustado aos dados da base de treinamento."
      ],
      "metadata": {
        "id": "G4asZWgA2xAa"
      }
    },
    {
      "cell_type": "code",
      "source": [
        "lrModelo = lr.fit(trainingData)"
      ],
      "metadata": {
        "id": "QHkDrRH22qKN"
      },
      "execution_count": 417,
      "outputs": []
    },
    {
      "cell_type": "code",
      "source": [
        "resultado = lrModelo.summary\n",
        "print(\"Coefficients: %s\" % str(lrModelo.coefficients))\n",
        "print(\"Intercept: %s\" % str(lrModelo.intercept))\n",
        "print(resultado.meanSquaredError)\n",
        "print(resultado.rootMeanSquaredError)\n",
        "print(resultado.r2)"
      ],
      "metadata": {
        "colab": {
          "base_uri": "https://localhost:8080/"
        },
        "id": "AC2wlv-125At",
        "outputId": "c473fb5a-3d20-4392-fb8a-64bf8ab42c34"
      },
      "execution_count": 418,
      "outputs": [
        {
          "output_type": "stream",
          "name": "stdout",
          "text": [
            "Coefficients: [31.121591429480663,101.64881320695609,-0.07998985324776334,-0.0036177045780663134]\n",
            "Intercept: 68.05405646553267\n",
            "19497.772221979034\n",
            "139.63442348496676\n",
            "0.563817736754264\n"
          ]
        }
      ]
    },
    {
      "cell_type": "markdown",
      "source": [
        "Testando o modelo (transformer) na base de teste (validação)"
      ],
      "metadata": {
        "id": "TG3-s61b3PB2"
      }
    },
    {
      "cell_type": "code",
      "source": [
        "df_resultado = lrModelo.transform(testData)\n",
        "df_resultado.show(30, truncate=False)"
      ],
      "metadata": {
        "colab": {
          "base_uri": "https://localhost:8080/"
        },
        "id": "O1zz85O92_-S",
        "outputId": "ab69e37b-5637-4a73-88b8-bb42f20af022"
      },
      "execution_count": 419,
      "outputs": [
        {
          "output_type": "stream",
          "name": "stdout",
          "text": [
            "+------+-----------------------------------+------------------+\n",
            "|label |features                           |prediction        |\n",
            "+------+-----------------------------------+------------------+\n",
            "|60.1  |[3.0,2.0,1.74399995803833,1979.0]  |357.41751750718595|\n",
            "|64.8  |[1.0,1.0,732.0,1980.0]             |135.10883346003538|\n",
            "|65.0  |[1.0,1.0,390.0,1972.0]             |162.49430490739496|\n",
            "|65.7  |[3.0,2.0,1.3320000171661377,1979.0]|357.4504733219944 |\n",
            "|67.5  |[1.0,1.0,691.0,1971.0]             |138.42097678439626|\n",
            "|69.0  |[1.0,1.0,662.0,1979.0]             |140.71174089195688|\n",
            "|69.0  |[2.0,1.0,715.0,1963.0]             |167.65175337255513|\n",
            "|69.9  |[1.0,1.0,481.0,1970.0]             |155.22246367100462|\n",
            "|69.9  |[1.0,1.0,704.0,1971.0]             |137.3811086921753 |\n",
            "|72.5  |[1.0,1.0,690.0,1972.0]             |138.49734893306595|\n",
            "|74.9  |[2.0,1.0,823.0,1983.0]             |158.94049513023538|\n",
            "|75.0  |[1.0,1.0,807.0,1967.0]             |129.15662462596796|\n",
            "|75.0  |[2.0,1.0,938.0,1973.0]             |149.77783905252323|\n",
            "|79.0  |[1.0,1.0,568.0,1983.0]             |148.21631627893436|\n",
            "|79.0  |[3.0,2.0,1.0870000123977661,1970.0]|357.50263017762416|\n",
            "|79.9  |[2.0,1.0,845.0,1962.0]             |157.25669015492394|\n",
            "|84.9  |[2.0,1.0,991.0,1971.0]             |145.54561223954795|\n",
            "|85.0  |[1.0,1.0,624.0,1970.0]             |143.78391465657447|\n",
            "|85.0  |[2.0,1.0,716.0,1969.0]             |167.55005729183898|\n",
            "|89.0  |[2.0,1.0,729.0,1969.0]             |166.51018919961805|\n",
            "|89.0  |[2.0,1.0,840.0,1972.0]             |157.62046237538212|\n",
            "|89.5  |[2.0,1.0,807.0,1970.0]             |160.26736294171445|\n",
            "|89.8  |[1.0,1.0,678.0,1980.0]             |139.4282855354146 |\n",
            "|89.9  |[1.0,1.0,559.0,1983.0]             |148.93622495816422|\n",
            "|89.9  |[1.0,1.0,628.0,1977.0]             |143.43863131153694|\n",
            "|89.9  |[2.0,1.0,825.0,1972.0]             |158.82031017409855|\n",
            "|89.999|[1.0,1.0,654.0,1971.0]             |141.3806013545635 |\n",
            "|93.0  |[1.0,1.0,636.0,1969.0]             |142.82765412217935|\n",
            "|96.0  |[1.0,1.0,741.0,1980.0]             |134.3889247808055 |\n",
            "|98.5  |[2.0,1.0,808.0,1971.0]             |160.18375538388864|\n",
            "+------+-----------------------------------+------------------+\n",
            "only showing top 30 rows\n",
            "\n"
          ]
        }
      ]
    },
    {
      "cell_type": "markdown",
      "source": [
        "Avaliando a qualidade do modelo na base de teste"
      ],
      "metadata": {
        "id": "smh8sx7e3c0E"
      }
    },
    {
      "cell_type": "code",
      "source": [
        "evaluator = RegressionEvaluator(labelCol=\"label\", predictionCol=\"prediction\", metricName=\"rmse\")\n",
        "rmse = evaluator.evaluate(df_resultado)\n",
        "print(\"Root Mean Squared Error (RMSE) on test data = %g\" % rmse)"
      ],
      "metadata": {
        "colab": {
          "base_uri": "https://localhost:8080/"
        },
        "id": "B-x75vir3SlD",
        "outputId": "ac9f2621-e392-472e-ba0a-bfc5bd2e8a3f"
      },
      "execution_count": 420,
      "outputs": [
        {
          "output_type": "stream",
          "name": "stdout",
          "text": [
            "Root Mean Squared Error (RMSE) on test data = 138.507\n"
          ]
        }
      ]
    }
  ]
}